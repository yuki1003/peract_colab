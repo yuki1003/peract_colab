{
 "cells": [
  {
   "cell_type": "markdown",
   "metadata": {},
   "source": [
    "# Training PerAct Agent on handoversim data"
   ]
  },
  {
   "cell_type": "code",
   "execution_count": null,
   "metadata": {},
   "outputs": [],
   "source": [
    "import numpy as np\n",
    "np.bool = np.bool_ # bad trick to fix numpy version issue :(\n",
    "import os\n",
    "import sys\n",
    "from natsort import natsorted\n",
    "\n",
    "sys.path = [p for p in sys.path if '/peract/' not in p]\n",
    "\n",
    "# Set `PYOPENGL_PLATFORM=egl` for pyrender visualizations\n",
    "os.environ[\"DISPLAY\"] = \":0\"\n",
    "os.environ[\"PYOPENGL_PLATFORM\"] = \"egl\"\n",
    "os.environ[\"CUDA_VISIBLE_DEVICES\"] = \"0,3\" # Depends on your computer and available GPUs"
   ]
  },
  {
   "cell_type": "code",
   "execution_count": null,
   "metadata": {},
   "outputs": [],
   "source": [
    "import itertools\n",
    "\n",
    "available_cameras = [f\"view_{camera_i}\" for camera_i in range(3)]\n",
    "# Grid search\n",
    "grid = {\n",
    "    'fill_replay_setting': [\"standard\"],#, \"standard\", \"uniform\"],\n",
    "    'cameras': [available_cameras],# [available_cameras[0]]],\n",
    "    'RGB_AUGMENTATION': ['None','partial','full'],\n",
    "    'demo_augm_n': [5],\n",
    "    'keypoint_approach': [True],#, False],\n",
    "    'only_learn_approach': [True]\n",
    "}\n",
    "# Loop over al grid search combinations\n",
    "counter = 0\n",
    "lst_settings = []\n",
    "for values in itertools.product(*grid.values()):\n",
    "    \n",
    "    point = dict(zip(grid.keys(), values))\n",
    "    # merge the general settings\n",
    "    settings = {**point}\n",
    "    lst_settings.append(settings)\n",
    "    print(counter, settings)\n",
    "    counter += 1"
   ]
  },
  {
   "cell_type": "code",
   "execution_count": null,
   "metadata": {},
   "outputs": [],
   "source": [
    "from notebook_helpers.build_replay import load_replay_buffer\n",
    "from notebook_helpers.build_training import build_agent, agent_training\n",
    "\n",
    "# Loop over al grid search combinations: and run\n",
    "for run_settings in lst_settings:\n",
    "    print(run_settings)\n",
    "\n",
    "    train_data_iter, test_data_iter = load_replay_buffer(run_settings)\n",
    "    peract_agent = build_agent(run_settings)\n",
    "    agent_training(run_settings, peract_agent, train_data_iter, test_data_iter)"
   ]
  },
  {
   "cell_type": "code",
   "execution_count": null,
   "metadata": {},
   "outputs": [],
   "source": [
    "## For single (test) run\n",
    "# available_cameras = [f\"view_{camera_i}\" for camera_i in range(3)]\n",
    "# run_settings = {\n",
    "#     'fill_replay_setting': \"crop\",\n",
    "#     'cameras': available_cameras,\n",
    "#     'RGB_AUGMENTATION': 'partial',\n",
    "#     'keypoint_approach': True,\n",
    "#     'demo_augm_n': 5,\n",
    "#     'only_learn_approach': True\n",
    "# }\n",
    "# print(run_settings)\n",
    "\n",
    "# train_data_iter, test_data_iter = load_replay_buffer(run_settings)\n",
    "# peract_agent = build_agent(run_settings)\n",
    "# agent_training(run_settings, peract_agent, train_data_iter, test_data_iter)"
   ]
  },
  {
   "cell_type": "code",
   "execution_count": null,
   "metadata": {},
   "outputs": [],
   "source": []
  }
 ],
 "metadata": {
  "kernelspec": {
   "display_name": ".venv",
   "language": "python",
   "name": "python3"
  },
  "language_info": {
   "codemirror_mode": {
    "name": "ipython",
    "version": 3
   },
   "file_extension": ".py",
   "mimetype": "text/x-python",
   "name": "python",
   "nbconvert_exporter": "python",
   "pygments_lexer": "ipython3",
   "version": "3.8.10"
  }
 },
 "nbformat": 4,
 "nbformat_minor": 2
}
